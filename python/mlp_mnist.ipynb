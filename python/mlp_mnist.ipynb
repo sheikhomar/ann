{
 "cells": [
  {
   "cell_type": "markdown",
   "metadata": {},
   "source": [
    "# MLP"
   ]
  },
  {
   "cell_type": "code",
   "execution_count": 57,
   "metadata": {},
   "outputs": [],
   "source": [
    "import numpy as np\n",
    "import matplotlib.pyplot as plt\n",
    "\n",
    "import mnist as mnist\n",
    "from hgen import write_model\n",
    "\n",
    "import keras\n",
    "from keras.models import Sequential\n",
    "from keras.layers import Dense, Dropout\n",
    "\n",
    "%matplotlib inline"
   ]
  },
  {
   "cell_type": "code",
   "execution_count": 58,
   "metadata": {},
   "outputs": [],
   "source": [
    "from numpy.random import seed\n",
    "from tensorflow import set_random_seed\n",
    "seed(1)\n",
    "set_random_seed(2)"
   ]
  },
  {
   "cell_type": "code",
   "execution_count": 3,
   "metadata": {},
   "outputs": [],
   "source": [
    "# Reshape image data so each image is represented by one long array \n",
    "def prepare_input(arr):\n",
    "    arr = arr.reshape(arr.shape[0], arr.shape[1] * arr.shape[2])\n",
    "    \n",
    "    # Convert to input float32\n",
    "    arr = arr.astype('float32')\n",
    "\n",
    "    # Normalise input in the range [-1, 1] \n",
    "    arr = (arr-127.5) / 127.5\n",
    "\n",
    "    return arr\n",
    "\n",
    "def mem_usage(numpy_arr):\n",
    "    print('Uses {0:.2f} MB of memory'.format(numpy_arr.nbytes / 1024 / 1024))\n",
    "\n",
    "def find_ten_digit s_indicies(labels):\n",
    "    image_indices = []\n",
    "    for number in range(10):\n",
    "        # Find indicies where elements equal to a specific number\n",
    "        indices = np.where(labels == number)[0]\n",
    "        rnd_idx = np.random.choice(indices, 1)[0]\n",
    "        image_indices.append(rnd_idx)\n",
    "    return image_indices"
   ]
  },
  {
   "cell_type": "code",
   "execution_count": 12,
   "metadata": {},
   "outputs": [],
   "source": [
    "X_original = mnist.train_images()\n",
    "y_original = mnist.train_labels()\n",
    "X_test_original = mnist.test_images()\n",
    "y_test_original = mnist.test_labels()"
   ]
  },
  {
   "cell_type": "code",
   "execution_count": 66,
   "metadata": {},
   "outputs": [
    {
     "data": {
      "text/plain": [
       "[5965, 5090, 9700, 7479, 5032, 5285, 9058, 1366, 4112, 73]"
      ]
     },
     "execution_count": 66,
     "metadata": {},
     "output_type": "execute_result"
    }
   ],
   "source": [
    "image_indices = []\n",
    "for number in range(10):\n",
    "    # Find indicies where elements equal to a specific number\n",
    "    indices = np.where(y_test_original == number)[0]\n",
    "    rnd_idx = np.random.choice(indices, 1)[0]\n",
    "    image_indices.append(rnd_idx)\n",
    "image_indices"
   ]
  },
  {
   "cell_type": "code",
   "execution_count": 75,
   "metadata": {},
   "outputs": [
    {
     "data": {
      "image/png": "[encoded data removed]",
      "text/plain": [
       "<Figure size 864x432 with 10 Axes>"
      ]
     },
     "metadata": {
      "needs_background": "light"
     },
     "output_type": "display_data"
    }
   ],
   "source": [
    "num_rows = 2\n",
    "num_columns = 5\n",
    "fig, axes = plt.subplots(nrows=num_rows, ncols=num_columns, figsize=(12, 6))\n",
    "for row in range(num_rows):\n",
    "    for column in range(num_columns):\n",
    "        img = X_test_original[image_indices[column + (row*num_columns)]]\n",
    "        axes[row][column].imshow(img, cmap='binary')"
   ]
  },
  {
   "cell_type": "code",
   "execution_count": 4,
   "metadata": {},
   "outputs": [],
   "source": [
    "# Reshape and normalise input\n",
    "X = prepare_input(X_original)\n",
    "X_test = prepare_input(X_test_original)"
   ]
  },
  {
   "cell_type": "code",
   "execution_count": 5,
   "metadata": {},
   "outputs": [],
   "source": [
    "num_classes = np.unique(y).shape[0]\n",
    "input_size = X.shape[1]\n",
    "\n",
    "# Convert class vectors to binary class matrices\n",
    "y = keras.utils.to_categorical(y_original, num_classes)\n",
    "y_test = keras.utils.to_categorical(y_test_original, num_classes)"
   ]
  },
  {
   "cell_type": "code",
   "execution_count": 6,
   "metadata": {},
   "outputs": [],
   "source": [
    "def train(model, model_name='model'):\n",
    "    model.compile(loss='categorical_crossentropy',\n",
    "              optimizer=keras.optimizers.SGD(momentum=0.9),\n",
    "              metrics=['accuracy'])\n",
    "    history = model.fit(X, y,\n",
    "                    batch_size=128,\n",
    "                    epochs=20,\n",
    "                    verbose=1,\n",
    "                    validation_data=(X_test, y_test))\n",
    "    model.save_weights('models/{}.hdf5'.format(model_name))"
   ]
  },
  {
   "cell_type": "code",
   "execution_count": 7,
   "metadata": {},
   "outputs": [
    {
     "name": "stdout",
     "output_type": "stream",
     "text": [
      "_________________________________________________________________\n",
      "Layer (type)                 Output Shape              Param #   \n",
      "=================================================================\n",
      "input_1 (InputLayer)         (None, 784)               0         \n",
      "_________________________________________________________________\n",
      "hidden (Dense)               (None, 32)                25120     \n",
      "_________________________________________________________________\n",
      "output (Dense)               (None, 10)                330       \n",
      "=================================================================\n",
      "Total params: 25,450\n",
      "Trainable params: 25,450\n",
      "Non-trainable params: 0\n",
      "_________________________________________________________________\n"
     ]
    }
   ],
   "source": [
    "from keras.layers import Input, Dense\n",
    "from keras.models import Model\n",
    "\n",
    "def create_mlp_3_layers_32():\n",
    "    inputs = Input(shape=(input_size,))\n",
    "    x = Dense(32, name='hidden', activation='relu')(inputs)\n",
    "    predictions = Dense(10, name='output', activation='softmax')(x)\n",
    "    model = Model(inputs=inputs, outputs=predictions)\n",
    "    return { 'model': model, 'name': 'mpl_3_layers_32' }\n",
    "\n",
    "mpl_3_layers_32 = create_mlp_3_layers_32()\n",
    "mpl_3_layers_32_model = mpl_3_layers_32['model']\n",
    "mpl_3_layers_32_model.summary()"
   ]
  },
  {
   "cell_type": "code",
   "execution_count": 8,
   "metadata": {},
   "outputs": [
    {
     "data": {
      "image/svg+xml": [
       "<svg height=\"221pt\" viewBox=\"0.00 0.00 337.00 221.00\" width=\"337pt\" xmlns=\"http://www.w3.org/2000/svg\" xmlns:xlink=\"http://www.w3.org/1999/xlink\">\n",
       "<g class=\"graph\" id=\"graph0\" transform=\"scale(1 1) rotate(0) translate(4 217)\">\n",
       "<title>G</title>\n",
       "<polygon fill=\"#ffffff\" points=\"-4,4 -4,-217 333,-217 333,4 -4,4\" stroke=\"transparent\"/>\n",
       "<!-- 139919866729640 -->\n",
       "<g class=\"node\" id=\"node1\">\n",
       "<title>139919866729640</title>\n",
       "<polygon fill=\"none\" points=\"0,-166.5 0,-212.5 329,-212.5 329,-166.5 0,-166.5\" stroke=\"#000000\"/>\n",
       "<text fill=\"#000000\" font-family=\"Times,serif\" font-size=\"14.00\" text-anchor=\"middle\" x=\"80\" y=\"-185.8\">input_1: InputLayer</text>\n",
       "<polyline fill=\"none\" points=\"160,-166.5 160,-212.5 \" stroke=\"#000000\"/>\n",
       "<text fill=\"#000000\" font-family=\"Times,serif\" font-size=\"14.00\" text-anchor=\"middle\" x=\"194\" y=\"-197.3\">input:</text>\n",
       "<polyline fill=\"none\" points=\"160,-189.5 228,-189.5 \" stroke=\"#000000\"/>\n",
       "<text fill=\"#000000\" font-family=\"Times,serif\" font-size=\"14.00\" text-anchor=\"middle\" x=\"194\" y=\"-174.3\">output:</text>\n",
       "<polyline fill=\"none\" points=\"228,-166.5 228,-212.5 \" stroke=\"#000000\"/>\n",
       "<text fill=\"#000000\" font-family=\"Times,serif\" font-size=\"14.00\" text-anchor=\"middle\" x=\"278.5\" y=\"-197.3\">(None, 784)</text>\n",
       "<polyline fill=\"none\" points=\"228,-189.5 329,-189.5 \" stroke=\"#000000\"/>\n",
       "<text fill=\"#000000\" font-family=\"Times,serif\" font-size=\"14.00\" text-anchor=\"middle\" x=\"278.5\" y=\"-174.3\">(None, 784)</text>\n",
       "</g>\n",
       "<!-- 139919866730648 -->\n",
       "<g class=\"node\" id=\"node2\">\n",
       "<title>139919866730648</title>\n",
       "<polygon fill=\"none\" points=\"20.5,-83.5 20.5,-129.5 308.5,-129.5 308.5,-83.5 20.5,-83.5\" stroke=\"#000000\"/>\n",
       "<text fill=\"#000000\" font-family=\"Times,serif\" font-size=\"14.00\" text-anchor=\"middle\" x=\"80\" y=\"-102.8\">hidden: Dense</text>\n",
       "<polyline fill=\"none\" points=\"139.5,-83.5 139.5,-129.5 \" stroke=\"#000000\"/>\n",
       "<text fill=\"#000000\" font-family=\"Times,serif\" font-size=\"14.00\" text-anchor=\"middle\" x=\"173.5\" y=\"-114.3\">input:</text>\n",
       "<polyline fill=\"none\" points=\"139.5,-106.5 207.5,-106.5 \" stroke=\"#000000\"/>\n",
       "<text fill=\"#000000\" font-family=\"Times,serif\" font-size=\"14.00\" text-anchor=\"middle\" x=\"173.5\" y=\"-91.3\">output:</text>\n",
       "<polyline fill=\"none\" points=\"207.5,-83.5 207.5,-129.5 \" stroke=\"#000000\"/>\n",
       "<text fill=\"#000000\" font-family=\"Times,serif\" font-size=\"14.00\" text-anchor=\"middle\" x=\"258\" y=\"-114.3\">(None, 784)</text>\n",
       "<polyline fill=\"none\" points=\"207.5,-106.5 308.5,-106.5 \" stroke=\"#000000\"/>\n",
       "<text fill=\"#000000\" font-family=\"Times,serif\" font-size=\"14.00\" text-anchor=\"middle\" x=\"258\" y=\"-91.3\">(None, 32)</text>\n",
       "</g>\n",
       "<!-- 139919866729640&#45;&gt;139919866730648 -->\n",
       "<g class=\"edge\" id=\"edge1\">\n",
       "<title>139919866729640-&gt;139919866730648</title>\n",
       "<path d=\"M164.5,-166.3799C164.5,-158.1745 164.5,-148.7679 164.5,-139.8786\" fill=\"none\" stroke=\"#000000\"/>\n",
       "<polygon fill=\"#000000\" points=\"168.0001,-139.784 164.5,-129.784 161.0001,-139.784 168.0001,-139.784\" stroke=\"#000000\"/>\n",
       "</g>\n",
       "<!-- 139919866729976 -->\n",
       "<g class=\"node\" id=\"node3\">\n",
       "<title>139919866729976</title>\n",
       "<polygon fill=\"none\" points=\"26,-.5 26,-46.5 303,-46.5 303,-.5 26,-.5\" stroke=\"#000000\"/>\n",
       "<text fill=\"#000000\" font-family=\"Times,serif\" font-size=\"14.00\" text-anchor=\"middle\" x=\"84.5\" y=\"-19.8\">output: Dense</text>\n",
       "<polyline fill=\"none\" points=\"143,-.5 143,-46.5 \" stroke=\"#000000\"/>\n",
       "<text fill=\"#000000\" font-family=\"Times,serif\" font-size=\"14.00\" text-anchor=\"middle\" x=\"177\" y=\"-31.3\">input:</text>\n",
       "<polyline fill=\"none\" points=\"143,-23.5 211,-23.5 \" stroke=\"#000000\"/>\n",
       "<text fill=\"#000000\" font-family=\"Times,serif\" font-size=\"14.00\" text-anchor=\"middle\" x=\"177\" y=\"-8.3\">output:</text>\n",
       "<polyline fill=\"none\" points=\"211,-.5 211,-46.5 \" stroke=\"#000000\"/>\n",
       "<text fill=\"#000000\" font-family=\"Times,serif\" font-size=\"14.00\" text-anchor=\"middle\" x=\"257\" y=\"-31.3\">(None, 32)</text>\n",
       "<polyline fill=\"none\" points=\"211,-23.5 303,-23.5 \" stroke=\"#000000\"/>\n",
       "<text fill=\"#000000\" font-family=\"Times,serif\" font-size=\"14.00\" text-anchor=\"middle\" x=\"257\" y=\"-8.3\">(None, 10)</text>\n",
       "</g>\n",
       "<!-- 139919866730648&#45;&gt;139919866729976 -->\n",
       "<g class=\"edge\" id=\"edge2\">\n",
       "<title>139919866730648-&gt;139919866729976</title>\n",
       "<path d=\"M164.5,-83.3799C164.5,-75.1745 164.5,-65.7679 164.5,-56.8786\" fill=\"none\" stroke=\"#000000\"/>\n",
       "<polygon fill=\"#000000\" points=\"168.0001,-56.784 164.5,-46.784 161.0001,-56.784 168.0001,-56.784\" stroke=\"#000000\"/>\n",
       "</g>\n",
       "</g>\n",
       "</svg>"
      ],
      "text/plain": [
       "<IPython.core.display.SVG object>"
      ]
     },
     "execution_count": 8,
     "metadata": {},
     "output_type": "execute_result"
    }
   ],
   "source": [
    "from IPython.display import SVG\n",
    "from keras.utils.vis_utils import model_to_dot\n",
    "\n",
    "SVG(model_to_dot(mpl_3_layers_32_model, show_shapes=True).create(prog='dot', format='svg'))"
   ]
  },
  {
   "cell_type": "code",
   "execution_count": 9,
   "metadata": {},
   "outputs": [
    {
     "name": "stdout",
     "output_type": "stream",
     "text": [
      "Train on 60000 samples, validate on 10000 samples\n",
      "Epoch 1/20\n",
      "60000/60000 [==============================] - 1s 19us/step - loss: 0.4753 - acc: 0.8551 - val_loss: 0.2936 - val_acc: 0.9145\n",
      "Epoch 2/20\n",
      "60000/60000 [==============================] - 1s 16us/step - loss: 0.2856 - acc: 0.9160 - val_loss: 0.2588 - val_acc: 0.9222\n",
      "Epoch 3/20\n",
      "60000/60000 [==============================] - 1s 16us/step - loss: 0.2425 - acc: 0.9295 - val_loss: 0.2196 - val_acc: 0.9347\n",
      "Epoch 4/20\n",
      "60000/60000 [==============================] - 1s 16us/step - loss: 0.2171 - acc: 0.9360 - val_loss: 0.2084 - val_acc: 0.9397\n",
      "Epoch 5/20\n",
      "60000/60000 [==============================] - 1s 16us/step - loss: 0.2009 - acc: 0.9411 - val_loss: 0.2285 - val_acc: 0.9337\n",
      "Epoch 6/20\n",
      "60000/60000 [==============================] - 1s 17us/step - loss: 0.1883 - acc: 0.9451 - val_loss: 0.1866 - val_acc: 0.9465\n",
      "Epoch 7/20\n",
      "60000/60000 [==============================] - 1s 16us/step - loss: 0.1770 - acc: 0.9486 - val_loss: 0.1806 - val_acc: 0.9486\n",
      "Epoch 8/20\n",
      "60000/60000 [==============================] - 1s 16us/step - loss: 0.1664 - acc: 0.9519 - val_loss: 0.1757 - val_acc: 0.9506\n",
      "Epoch 9/20\n",
      "60000/60000 [==============================] - 1s 16us/step - loss: 0.1602 - acc: 0.9525 - val_loss: 0.1776 - val_acc: 0.9487\n",
      "Epoch 10/20\n",
      "60000/60000 [==============================] - 1s 16us/step - loss: 0.1494 - acc: 0.9567 - val_loss: 0.1542 - val_acc: 0.9563\n",
      "Epoch 11/20\n",
      "60000/60000 [==============================] - 1s 17us/step - loss: 0.1454 - acc: 0.9569 - val_loss: 0.1697 - val_acc: 0.9513\n",
      "Epoch 12/20\n",
      "60000/60000 [==============================] - 1s 16us/step - loss: 0.1408 - acc: 0.9586 - val_loss: 0.1582 - val_acc: 0.9540\n",
      "Epoch 13/20\n",
      "60000/60000 [==============================] - 1s 17us/step - loss: 0.1348 - acc: 0.9604 - val_loss: 0.1634 - val_acc: 0.9526\n",
      "Epoch 14/20\n",
      "60000/60000 [==============================] - 1s 17us/step - loss: 0.1285 - acc: 0.9618 - val_loss: 0.1551 - val_acc: 0.9564\n",
      "Epoch 15/20\n",
      "60000/60000 [==============================] - 1s 17us/step - loss: 0.1246 - acc: 0.9634 - val_loss: 0.1503 - val_acc: 0.9577\n",
      "Epoch 16/20\n",
      "60000/60000 [==============================] - 1s 20us/step - loss: 0.1219 - acc: 0.9640 - val_loss: 0.1561 - val_acc: 0.9533\n",
      "Epoch 17/20\n",
      "60000/60000 [==============================] - 1s 19us/step - loss: 0.1171 - acc: 0.9646 - val_loss: 0.1530 - val_acc: 0.9554\n",
      "Epoch 18/20\n",
      "60000/60000 [==============================] - 1s 17us/step - loss: 0.1146 - acc: 0.9656 - val_loss: 0.1505 - val_acc: 0.9576\n",
      "Epoch 19/20\n",
      "60000/60000 [==============================] - 1s 17us/step - loss: 0.1133 - acc: 0.9664 - val_loss: 0.1311 - val_acc: 0.9618\n",
      "Epoch 20/20\n",
      "60000/60000 [==============================] - 1s 17us/step - loss: 0.1092 - acc: 0.9682 - val_loss: 0.1485 - val_acc: 0.9563\n"
     ]
    }
   ],
   "source": [
    "train(mpl_3_layers_32['model'], mpl_3_layers_32['name'])"
   ]
  },
  {
   "cell_type": "code",
   "execution_count": 10,
   "metadata": {},
   "outputs": [],
   "source": [
    "write_model(mpl_3_layers_32_model, 'nn_3_layers_32_neurons.h')"
   ]
  },
  {
   "cell_type": "code",
   "execution_count": 11,
   "metadata": {},
   "outputs": [
    {
     "data": {
      "text/plain": [
       "array([0., 0., 0., 0., 0., 0., 0., 1., 0., 0.], dtype=float32)"
      ]
     },
     "execution_count": 11,
     "metadata": {},
     "output_type": "execute_result"
    }
   ],
   "source": [
    "y_test[0]"
   ]
  },
  {
   "cell_type": "code",
   "execution_count": 11,
   "metadata": {},
   "outputs": [
    {
     "data": {
      "text/plain": [
       "array([[-1.        , -1.        , -1.        , -1.        , -1.        ,\n",
       "        -1.        , -1.        , -1.        , -1.        , -1.        ,\n",
       "        -1.        , -1.        , -1.        , -1.        , -1.        ,\n",
       "        -1.        , -1.        , -1.        , -1.        , -1.        ,\n",
       "        -1.        , -1.        , -1.        , -1.        , -1.        ,\n",
       "        -1.        , -1.        , -1.        , -1.        , -1.        ,\n",
       "        -1.        , -1.        , -1.        , -1.        , -1.        ,\n",
       "        -1.        , -1.        , -1.        , -1.        , -1.        ,\n",
       "        -1.        , -1.        , -1.        , -1.        , -1.        ,\n",
       "        -1.        , -1.        , -1.        , -1.        , -1.        ,\n",
       "        -1.        , -1.        , -1.        , -1.        , -1.        ,\n",
       "        -1.        , -1.        , -1.        , -1.        , -1.        ,\n",
       "        -1.        , -1.        , -1.        , -1.        , -1.        ,\n",
       "        -1.        , -1.        , -1.        , -1.        , -1.        ,\n",
       "        -1.        , -1.        , -1.        , -1.        , -1.        ,\n",
       "        -1.        , -1.        , -1.        , -1.        , -1.        ,\n",
       "        -1.        , -1.        , -1.        , -1.        , -1.        ,\n",
       "        -1.        , -1.        , -1.        , -1.        , -1.        ,\n",
       "        -1.        , -1.        , -1.        , -1.        , -1.        ,\n",
       "        -1.        , -1.        , -1.        , -1.        , -1.        ,\n",
       "        -1.        , -1.        , -1.        , -1.        , -1.        ,\n",
       "        -1.        , -1.        , -1.        , -1.        , -1.        ,\n",
       "        -1.        , -1.        , -1.        , -1.        , -1.        ,\n",
       "        -1.        , -1.        , -1.        , -1.        , -1.        ,\n",
       "        -1.        , -1.        , -1.        , -1.        , -1.        ,\n",
       "        -1.        , -1.        , -1.        , -1.        , -1.        ,\n",
       "        -1.        , -1.        , -1.        , -1.        , -1.        ,\n",
       "        -1.        , -1.        , -1.        , -1.        , -1.        ,\n",
       "        -1.        , -1.        , -1.        , -1.        , -1.        ,\n",
       "        -1.        , -1.        , -1.        , -1.        , -1.        ,\n",
       "        -1.        , -1.        , -1.        , -1.        , -1.        ,\n",
       "        -1.        , -1.        , -1.        , -1.        , -1.        ,\n",
       "        -1.        , -1.        , -1.        , -1.        , -1.        ,\n",
       "        -1.        , -1.        , -1.        , -1.        , -1.        ,\n",
       "        -1.        , -1.        , -1.        , -1.        , -1.        ,\n",
       "        -1.        , -1.        , -1.        , -1.        , -1.        ,\n",
       "        -1.        , -1.        , -1.        , -1.        , -1.        ,\n",
       "        -1.        , -1.        , -1.        , -1.        , -1.        ,\n",
       "        -1.        , -1.        , -1.        , -1.        , -1.        ,\n",
       "        -1.        , -1.        , -1.        , -1.        , -1.        ,\n",
       "        -1.        , -1.        , -0.34117648,  0.4509804 ,  0.24705882,\n",
       "         0.18431373, -0.5294118 , -0.7176471 , -1.        , -1.        ,\n",
       "        -1.        , -1.        , -1.        , -1.        , -1.        ,\n",
       "        -1.        , -1.        , -1.        , -1.        , -1.        ,\n",
       "        -1.        , -1.        , -1.        , -1.        , -1.        ,\n",
       "        -1.        , -1.        , -1.        , -1.        , -1.        ,\n",
       "         0.7411765 ,  0.99215686,  0.99215686,  0.99215686,  0.99215686,\n",
       "         0.8901961 ,  0.5529412 ,  0.5529412 ,  0.5529412 ,  0.5529412 ,\n",
       "         0.5529412 ,  0.5529412 ,  0.5529412 ,  0.5529412 ,  0.33333334,\n",
       "        -0.5921569 , -1.        , -1.        , -1.        , -1.        ,\n",
       "        -1.        , -1.        , -1.        , -1.        , -1.        ,\n",
       "        -1.        , -1.        , -1.        , -0.4745098 , -0.10588235,\n",
       "        -0.43529412, -0.10588235,  0.2784314 ,  0.78039217,  0.99215686,\n",
       "         0.7647059 ,  0.99215686,  0.99215686,  0.99215686,  0.9607843 ,\n",
       "         0.79607844,  0.99215686,  0.99215686,  0.09803922, -1.        ,\n",
       "        -1.        , -1.        , -1.        , -1.        , -1.        ,\n",
       "        -1.        , -1.        , -1.        , -1.        , -1.        ,\n",
       "        -1.        , -1.        , -1.        , -1.        , -1.        ,\n",
       "        -1.        , -0.8666667 , -0.48235294, -0.8901961 , -0.4745098 ,\n",
       "        -0.4745098 , -0.4745098 , -0.5372549 , -0.8352941 ,  0.8509804 ,\n",
       "         0.99215686, -0.16862746, -1.        , -1.        , -1.        ,\n",
       "        -1.        , -1.        , -1.        , -1.        , -1.        ,\n",
       "        -1.        , -1.        , -1.        , -1.        , -1.        ,\n",
       "        -1.        , -1.        , -1.        , -1.        , -1.        ,\n",
       "        -1.        , -1.        , -1.        , -1.        , -1.        ,\n",
       "        -1.        , -0.34901962,  0.9843137 ,  0.6392157 , -0.85882354,\n",
       "        -1.        , -1.        , -1.        , -1.        , -1.        ,\n",
       "        -1.        , -1.        , -1.        , -1.        , -1.        ,\n",
       "        -1.        , -1.        , -1.        , -1.        , -1.        ,\n",
       "        -1.        , -1.        , -1.        , -1.        , -1.        ,\n",
       "        -1.        , -1.        , -1.        , -0.827451  ,  0.827451  ,\n",
       "         1.        , -0.34901962, -1.        , -1.        , -1.        ,\n",
       "        -1.        , -1.        , -1.        , -1.        , -1.        ,\n",
       "        -1.        , -1.        , -1.        , -1.        , -1.        ,\n",
       "        -1.        , -1.        , -1.        , -1.        , -1.        ,\n",
       "        -1.        , -1.        , -1.        , -1.        , -1.        ,\n",
       "        -1.        ,  0.01176471,  0.99215686,  0.8666667 , -0.654902  ,\n",
       "        -1.        , -1.        , -1.        , -1.        , -1.        ,\n",
       "        -1.        , -1.        , -1.        , -1.        , -1.        ,\n",
       "        -1.        , -1.        , -1.        , -1.        , -1.        ,\n",
       "        -1.        , -1.        , -1.        , -1.        , -1.        ,\n",
       "        -1.        , -1.        , -1.        , -0.5372549 ,  0.9529412 ,\n",
       "         0.99215686, -0.5137255 , -1.        , -1.        , -1.        ,\n",
       "        -1.        , -1.        , -1.        , -1.        , -1.        ,\n",
       "        -1.        , -1.        , -1.        , -1.        , -1.        ,\n",
       "        -1.        , -1.        , -1.        , -1.        , -1.        ,\n",
       "        -1.        , -1.        , -1.        , -1.        , -1.        ,\n",
       "        -1.        ,  0.04313726,  0.99215686,  0.46666667, -0.9607843 ,\n",
       "        -1.        , -1.        , -1.        , -1.        , -1.        ,\n",
       "        -1.        , -1.        , -1.        , -1.        , -1.        ,\n",
       "        -1.        , -1.        , -1.        , -1.        , -1.        ,\n",
       "        -1.        , -1.        , -1.        , -1.        , -1.        ,\n",
       "        -1.        , -1.        , -1.        , -0.92941177,  0.60784316,\n",
       "         0.94509804, -0.54509807, -1.        , -1.        , -1.        ,\n",
       "        -1.        , -1.        , -1.        , -1.        , -1.        ,\n",
       "        -1.        , -1.        , -1.        , -1.        , -1.        ,\n",
       "        -1.        , -1.        , -1.        , -1.        , -1.        ,\n",
       "        -1.        , -1.        , -1.        , -1.        , -1.        ,\n",
       "        -1.        , -0.01176471,  0.99215686,  0.42745098, -1.        ,\n",
       "        -1.        , -1.        , -1.        , -1.        , -1.        ,\n",
       "        -1.        , -1.        , -1.        , -1.        , -1.        ,\n",
       "        -1.        , -1.        , -1.        , -1.        , -1.        ,\n",
       "        -1.        , -1.        , -1.        , -1.        , -1.        ,\n",
       "        -1.        , -1.        , -1.        , -0.4117647 ,  0.96862745,\n",
       "         0.88235295, -0.5529412 , -1.        , -1.        , -1.        ,\n",
       "        -1.        , -1.        , -1.        , -1.        , -1.        ,\n",
       "        -1.        , -1.        , -1.        , -1.        , -1.        ,\n",
       "        -1.        , -1.        , -1.        , -1.        , -1.        ,\n",
       "        -1.        , -1.        , -1.        , -1.        , -1.        ,\n",
       "        -0.8509804 ,  0.73333335,  0.99215686,  0.3019608 , -1.        ,\n",
       "        -1.        , -1.        , -1.        , -1.        , -1.        ,\n",
       "        -1.        , -1.        , -1.        , -1.        , -1.        ,\n",
       "        -1.        , -1.        , -1.        , -1.        , -1.        ,\n",
       "        -1.        , -1.        , -1.        , -1.        , -1.        ,\n",
       "        -1.        , -1.        , -0.9764706 ,  0.5921569 ,  0.99215686,\n",
       "         0.7176471 , -0.7254902 , -1.        , -1.        , -1.        ,\n",
       "        -1.        , -1.        , -1.        , -1.        , -1.        ,\n",
       "        -1.        , -1.        , -1.        , -1.        , -1.        ,\n",
       "        -1.        , -1.        , -1.        , -1.        , -1.        ,\n",
       "        -1.        , -1.        , -1.        , -1.        , -1.        ,\n",
       "        -0.7019608 ,  0.99215686,  0.99215686, -0.39607844, -1.        ,\n",
       "        -1.        , -1.        , -1.        , -1.        , -1.        ,\n",
       "        -1.        , -1.        , -1.        , -1.        , -1.        ,\n",
       "        -1.        , -1.        , -1.        , -1.        , -1.        ,\n",
       "        -1.        , -1.        , -1.        , -1.        , -1.        ,\n",
       "        -1.        , -1.        , -0.75686276,  0.75686276,  0.99215686,\n",
       "        -0.09803922, -0.99215686, -1.        , -1.        , -1.        ,\n",
       "        -1.        , -1.        , -1.        , -1.        , -1.        ,\n",
       "        -1.        , -1.        , -1.        , -1.        , -1.        ,\n",
       "        -1.        , -1.        , -1.        , -1.        , -1.        ,\n",
       "        -1.        , -1.        , -1.        , -1.        , -1.        ,\n",
       "         0.04313726,  0.99215686,  0.99215686, -0.5921569 , -1.        ,\n",
       "        -1.        , -1.        , -1.        , -1.        , -1.        ,\n",
       "        -1.        , -1.        , -1.        , -1.        , -1.        ,\n",
       "        -1.        , -1.        , -1.        , -1.        , -1.        ,\n",
       "        -1.        , -1.        , -1.        , -1.        , -1.        ,\n",
       "        -1.        , -1.        , -0.52156866,  0.8980392 ,  0.99215686,\n",
       "         0.99215686, -0.5921569 , -1.        , -1.        , -1.        ,\n",
       "        -1.        , -1.        , -1.        , -1.        , -1.        ,\n",
       "        -1.        , -1.        , -1.        , -1.        , -1.        ,\n",
       "        -1.        , -1.        , -1.        , -1.        , -1.        ,\n",
       "        -1.        , -1.        , -1.        , -1.        , -1.        ,\n",
       "        -0.05098039,  0.99215686,  0.99215686,  0.7176471 , -0.6862745 ,\n",
       "        -1.        , -1.        , -1.        , -1.        , -1.        ,\n",
       "        -1.        , -1.        , -1.        , -1.        , -1.        ,\n",
       "        -1.        , -1.        , -1.        , -1.        , -1.        ,\n",
       "        -1.        , -1.        , -1.        , -1.        , -1.        ,\n",
       "        -1.        , -1.        , -1.        , -0.05098039,  0.99215686,\n",
       "         0.62352943, -0.85882354, -1.        , -1.        , -1.        ,\n",
       "        -1.        , -1.        , -1.        , -1.        , -1.        ,\n",
       "        -1.        , -1.        , -1.        , -1.        , -1.        ,\n",
       "        -1.        , -1.        , -1.        , -1.        , -1.        ,\n",
       "        -1.        , -1.        , -1.        , -1.        , -1.        ,\n",
       "        -1.        , -1.        , -1.        , -1.        , -1.        ,\n",
       "        -1.        , -1.        , -1.        , -1.        , -1.        ,\n",
       "        -1.        , -1.        , -1.        , -1.        , -1.        ,\n",
       "        -1.        , -1.        , -1.        , -1.        ]],\n",
       "      dtype=float32)"
      ]
     },
     "execution_count": 11,
     "metadata": {},
     "output_type": "execute_result"
    }
   ],
   "source": [
    "x = X_test[0]\n",
    "x = np.expand_dims(x, axis=0)\n",
    "x"
   ]
  },
  {
   "cell_type": "code",
   "execution_count": 12,
   "metadata": {},
   "outputs": [],
   "source": [
    "y_pred = mpl_3_layers_32_model.predict(x)"
   ]
  },
  {
   "cell_type": "code",
   "execution_count": 13,
   "metadata": {},
   "outputs": [
    {
     "name": "stdout",
     "output_type": "stream",
     "text": [
      "ASSERT_EQ_FLOAT(0.000001091, result[0]);\n",
      "ASSERT_EQ_FLOAT(0.000000000, result[1]);\n",
      "ASSERT_EQ_FLOAT(0.000027445, result[2]);\n",
      "ASSERT_EQ_FLOAT(0.000085699, result[3]);\n",
      "ASSERT_EQ_FLOAT(0.000000000, result[4]);\n",
      "ASSERT_EQ_FLOAT(0.000000037, result[5]);\n",
      "ASSERT_EQ_FLOAT(0.000000000, result[6]);\n",
      "ASSERT_EQ_FLOAT(0.999881625, result[7]);\n",
      "ASSERT_EQ_FLOAT(0.000003256, result[8]);\n",
      "ASSERT_EQ_FLOAT(0.000000857, result[9]);\n"
     ]
    }
   ],
   "source": [
    "for i in range(len(y_pred[0])):\n",
    "    res = y_pred[0][i]\n",
    "    print('ASSERT_EQ_FLOAT({0:.9f}, result[{1}]);'.format(res, i))"
   ]
  },
  {
   "cell_type": "code",
   "execution_count": null,
   "metadata": {},
   "outputs": [],
   "source": []
  }
 ],
 "metadata": {
  "kernelspec": {
   "display_name": "Python 3",
   "language": "python",
   "name": "python3"
  },
  "language_info": {
   "codemirror_mode": {
    "name": "ipython",
    "version": 3
   },
   "file_extension": ".py",
   "mimetype": "text/x-python",
   "name": "python",
   "nbconvert_exporter": "python",
   "pygments_lexer": "ipython3",
   "version": "3.6.6"
  }
 },
 "nbformat": 4,
 "nbformat_minor": 2
}
